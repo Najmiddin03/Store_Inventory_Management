{
 "cells": [
  {
   "cell_type": "code",
   "id": "b34329a7ba255862",
   "metadata": {
    "ExecuteTime": {
     "end_time": "2025-05-20T14:49:41.091440Z",
     "start_time": "2025-05-20T14:49:40.403705Z"
    }
   },
   "source": [
    "import pandas as pd\n",
    "from IPython.display import HTML, display\n",
    "from database.connection import getConnection"
   ],
   "outputs": [],
   "execution_count": 2
  },
  {
   "metadata": {
    "ExecuteTime": {
     "end_time": "2025-05-20T14:49:43.635152Z",
     "start_time": "2025-05-20T14:49:42.803801Z"
    }
   },
   "cell_type": "code",
   "source": [
    "engine = getConnection().get_engine()\n",
    "\n",
    "df = pd.read_sql(f\"select * from products\", engine)\n",
    "\n",
    "def make_Image_tag(url):\n",
    "    return f'<img src=\"{url}\" width=\"100\"/>'\n",
    "\n",
    "\n",
    "df['Image'] = df['Image'].apply(make_Image_tag)\n",
    "\n",
    "display(HTML(df.to_html(escape=False)))"
   ],
   "id": "initial_id",
   "outputs": [
    {
     "data": {
      "text/plain": [
       "<IPython.core.display.HTML object>"
      ],
      "text/html": [
       "<table border=\"1\" class=\"dataframe\">\n",
       "  <thead>\n",
       "    <tr style=\"text-align: right;\">\n",
       "      <th></th>\n",
       "      <th>id</th>\n",
       "      <th>SKU</th>\n",
       "      <th>ProductName</th>\n",
       "      <th>Subcategory_id</th>\n",
       "      <th>Brand</th>\n",
       "      <th>Price</th>\n",
       "      <th>Currency</th>\n",
       "      <th>UnitSize</th>\n",
       "      <th>MeasurementUnit</th>\n",
       "      <th>ReorderLevel</th>\n",
       "      <th>IsActive</th>\n",
       "      <th>Image</th>\n",
       "      <th>CreatedAt</th>\n",
       "    </tr>\n",
       "  </thead>\n",
       "  <tbody>\n",
       "    <tr>\n",
       "      <th>0</th>\n",
       "      <td>1</td>\n",
       "      <td>40564896222222</td>\n",
       "      <td>Wet napkin</td>\n",
       "      <td>1</td>\n",
       "      <td>Floralys,</td>\n",
       "      <td>1.99</td>\n",
       "      <td>USD</td>\n",
       "      <td>60.0</td>\n",
       "      <td>pcs</td>\n",
       "      <td>0</td>\n",
       "      <td>True</td>\n",
       "      <td><img src=\"https://i.ibb.co/h12DSh35/wet-napkin-01.jpg\" width=\"100\"/></td>\n",
       "      <td>2025-05-20 16:48:23.233</td>\n",
       "    </tr>\n",
       "    <tr>\n",
       "      <th>1</th>\n",
       "      <td>2</td>\n",
       "      <td>3245678667002</td>\n",
       "      <td>Cotton buds</td>\n",
       "      <td>1</td>\n",
       "      <td>Auchan</td>\n",
       "      <td>0.99</td>\n",
       "      <td>USD</td>\n",
       "      <td>100.0</td>\n",
       "      <td>pcs</td>\n",
       "      <td>0</td>\n",
       "      <td>True</td>\n",
       "      <td><img src=\"https://i.ibb.co/3y3BgFVj/photo-2025-05-19-12-22-30.jpg\" width=\"100\"/></td>\n",
       "      <td>2025-05-20 16:48:23.240</td>\n",
       "    </tr>\n",
       "    <tr>\n",
       "      <th>2</th>\n",
       "      <td>3</td>\n",
       "      <td>5449000000996</td>\n",
       "      <td>Coca cola</td>\n",
       "      <td>2</td>\n",
       "      <td>Coca cola</td>\n",
       "      <td>0.99</td>\n",
       "      <td>USD</td>\n",
       "      <td>330.0</td>\n",
       "      <td>ml</td>\n",
       "      <td>0</td>\n",
       "      <td>True</td>\n",
       "      <td><img src=\"https://i.ibb.co/9khGvZxm/cola330ml.jpg\" width=\"100\"/></td>\n",
       "      <td>2025-05-20 16:48:23.247</td>\n",
       "    </tr>\n",
       "  </tbody>\n",
       "</table>"
      ]
     },
     "metadata": {},
     "output_type": "display_data"
    }
   ],
   "execution_count": 3
  }
 ],
 "metadata": {
  "kernelspec": {
   "display_name": "Python 3",
   "language": "python",
   "name": "python3"
  },
  "language_info": {
   "codemirror_mode": {
    "name": "ipython",
    "version": 2
   },
   "file_extension": ".py",
   "mimetype": "text/x-python",
   "name": "python",
   "nbconvert_exporter": "python",
   "pygments_lexer": "ipython2",
   "version": "2.7.6"
  }
 },
 "nbformat": 4,
 "nbformat_minor": 5
}
