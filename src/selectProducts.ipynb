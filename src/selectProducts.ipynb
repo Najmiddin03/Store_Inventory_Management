{
 "cells": [
  {
   "cell_type": "code",
   "id": "b34329a7ba255862",
   "metadata": {
    "ExecuteTime": {
     "end_time": "2025-05-18T22:23:31.088536Z",
     "start_time": "2025-05-18T22:23:31.047104Z"
    }
   },
   "source": [
    "import pandas as pd\n",
    "from IPython.display import HTML, display\n",
    "from database.connection import getConnection"
   ],
   "outputs": [],
   "execution_count": 29
  },
  {
   "metadata": {
    "ExecuteTime": {
     "end_time": "2025-05-18T22:23:33.073496Z",
     "start_time": "2025-05-18T22:23:32.333447Z"
    }
   },
   "cell_type": "code",
   "source": [
    "engine = getConnection().get_engine()\n",
    "\n",
    "df = pd.read_sql(\"select ProductName, Image from products\", engine)\n",
    "\n",
    "def make_Image_tag(url):\n",
    "    return f'<img src=\"{url}\" width=\"100\"/>'\n",
    "\n",
    "\n",
    "df['ImagePreview'] = df['Image'].apply(make_Image_tag)\n",
    "\n",
    "display(HTML(df[['ProductName','Image','ImagePreview']].to_html(escape=False)))"
   ],
   "id": "initial_id",
   "outputs": [
    {
     "data": {
      "text/plain": [
       "<IPython.core.display.HTML object>"
      ],
      "text/html": [
       "<table border=\"1\" class=\"dataframe\">\n",
       "  <thead>\n",
       "    <tr style=\"text-align: right;\">\n",
       "      <th></th>\n",
       "      <th>ProductName</th>\n",
       "      <th>Image</th>\n",
       "      <th>ImagePreview</th>\n",
       "    </tr>\n",
       "  </thead>\n",
       "  <tbody>\n",
       "    <tr>\n",
       "      <th>0</th>\n",
       "      <td>Wet napkins</td>\n",
       "      <td>https://i.ibb.co/h12DSh35/wet-napkin-01.jpg</td>\n",
       "      <td><img src=\"https://i.ibb.co/h12DSh35/wet-napkin-01.jpg\" width=\"100\"/></td>\n",
       "    </tr>\n",
       "  </tbody>\n",
       "</table>"
      ]
     },
     "metadata": {},
     "output_type": "display_data"
    }
   ],
   "execution_count": 30
  }
 ],
 "metadata": {
  "kernelspec": {
   "display_name": "Python 3",
   "language": "python",
   "name": "python3"
  },
  "language_info": {
   "codemirror_mode": {
    "name": "ipython",
    "version": 2
   },
   "file_extension": ".py",
   "mimetype": "text/x-python",
   "name": "python",
   "nbconvert_exporter": "python",
   "pygments_lexer": "ipython2",
   "version": "2.7.6"
  }
 },
 "nbformat": 4,
 "nbformat_minor": 5
}
